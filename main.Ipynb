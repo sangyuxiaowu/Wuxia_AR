{
 "cells": [
  {
   "cell_type": "markdown",
   "metadata": {},
   "source": [
    "# 准备工作\n",
    "\n",
    "下载好 `video.mov` 放在当前目录\n",
    "\n",
    "# 视频处理\n",
    "\n",
    "以下是原始视频，我们将使用 `rembg` 将背景去掉"
   ]
  },
  {
   "cell_type": "code",
   "execution_count": 1,
   "metadata": {},
   "outputs": [
    {
     "data": {
      "text/html": [
       "<h3>原始视频</h3><iframe \n",
       "        style=\"width:98%;height: 450px;\"\n",
       "        src=\"//player.bilibili.com/player.html?aid=774767064&bvid=BV1z14y1V7L8&cid=882577955&page=1\"\n",
       "        scrolling=\"no\"\n",
       "        border=\"0\"\n",
       "        frameborder=\"no\"\n",
       "        framespacing=\"0\"\n",
       "        allowfullscreen=\"true\"\n",
       "    > </iframe>"
      ],
      "text/plain": [
       "<IPython.core.display.HTML object>"
      ]
     },
     "execution_count": 1,
     "metadata": {},
     "output_type": "execute_result"
    }
   ],
   "source": [
    "from IPython.display import HTML\n",
    "HTML(\"\"\"<h3>原始视频</h3><iframe \n",
    "        style=\"width:98%;height: 450px;\"\n",
    "        src=\"//player.bilibili.com/player.html?aid=774767064&bvid=BV1z14y1V7L8&cid=882577955&page=1\"\n",
    "        scrolling=\"no\"\n",
    "        border=\"0\"\n",
    "        frameborder=\"no\"\n",
    "        framespacing=\"0\"\n",
    "        allowfullscreen=\"true\"\n",
    "    > </iframe>\"\"\")"
   ]
  },
  {
   "cell_type": "code",
   "execution_count": 4,
   "metadata": {},
   "outputs": [],
   "source": [
    "#导入所需的库\n",
    "import cv2\n",
    "import os\n",
    "import math\n",
    "from PIL import Image\n",
    "from rembg import remove"
   ]
  },
  {
   "cell_type": "markdown",
   "metadata": {},
   "source": [
    "# 1. 定义视频转换图片函数\n",
    "\n",
    "先使用cv2将视频文件逐帧存储为.jpg文件"
   ]
  },
  {
   "cell_type": "code",
   "execution_count": 2,
   "metadata": {},
   "outputs": [],
   "source": [
    "def getFrame(video_name, save_path):#将视频逐帧保存为图片\n",
    "\n",
    "    video = cv2.VideoCapture(video_name)\n",
    "\n",
    "    # 获取视频帧率\n",
    "    fps = video.get(cv2.CAP_PROP_FPS)\n",
    "    print(fps)\n",
    "    \n",
    "    # 获取画面大小\n",
    "    width = int(video.get(cv2.CAP_PROP_FRAME_WIDTH))\n",
    "    height = int(video.get(cv2.CAP_PROP_FRAME_HEIGHT))\n",
    "    size = (width, height)\n",
    "\n",
    "    # 获取帧数\n",
    "    frame_num = str(video.get(7))\n",
    "    name = int(math.pow(10, len(frame_num)))\n",
    "    ret, frame = video.read()\n",
    "    while ret:\n",
    "        cv2.imwrite(save_path + str(name) + '.jpg', frame)\n",
    "        ret, frame = video.read()\n",
    "        name += 1\n",
    "    video.release()\n",
    "    return fps, size, frame_num"
   ]
  },
  {
   "cell_type": "markdown",
   "metadata": {},
   "source": [
    "# 2. 去除背景函数\n",
    "\n",
    "对逐帧保存的所有图片逐个进行去除背景操作"
   ]
  },
  {
   "cell_type": "code",
   "execution_count": 3,
   "metadata": {},
   "outputs": [],
   "source": [
    "def getRemoveBg(frames):#对帧图片进行批量去背景\n",
    "\n",
    "    output_dir='./output/'\n",
    "    if not os.path.exists(output_dir):\n",
    "        os.makedirs(output_dir)\n",
    "\n",
    "    files = [frames + i for i in os.listdir(frames)]\n",
    "    for fi in files:\n",
    "        fisave = fi.replace(\"frames\",\"output\").replace(\"jpg\",\"png\")\n",
    "        if not os.path.exists(fisave):\n",
    "            input =Image.open(fi)\n",
    "            output=remove(input)\n",
    "            output.save(fisave)"
   ]
  },
  {
   "cell_type": "code",
   "execution_count": 4,
   "metadata": {},
   "outputs": [
    {
     "name": "stdout",
     "output_type": "stream",
     "text": [
      "30.000696731400755\n",
      "30.000696731400755 (1080, 1920) 1682.0\n"
     ]
    }
   ],
   "source": [
    "#将视频按帧保存为图片\n",
    "frame_path = \"./frames/\"\n",
    "if not os.path.exists(frame_path):\n",
    "    os.makedirs(frame_path)\n",
    "fps, size, frame_number = getFrame(\"video.mov\", frame_path)\n",
    "print(fps, size, frame_number)"
   ]
  },
  {
   "cell_type": "code",
   "execution_count": null,
   "metadata": {},
   "outputs": [],
   "source": [
    "# rembg\n",
    "getRemoveBg(\"./frames/\")"
   ]
  },
  {
   "cell_type": "markdown",
   "metadata": {},
   "source": [
    "# 3. 合并透明视频"
   ]
  },
  {
   "cell_type": "code",
   "execution_count": null,
   "metadata": {},
   "outputs": [],
   "source": [
    "# 使用 ffmpeg 合并 png 序列 并添加音乐\n",
    "os.system(\"ffmpeg -r 30 -i output/1%06d.png -i music.mp3 -y output.webm\")"
   ]
  }
 ],
 "metadata": {
  "kernelspec": {
   "display_name": "Python 3.7.9 64-bit",
   "language": "python",
   "name": "python3"
  },
  "language_info": {
   "codemirror_mode": {
    "name": "ipython",
    "version": 3
   },
   "file_extension": ".py",
   "mimetype": "text/x-python",
   "name": "python",
   "nbconvert_exporter": "python",
   "pygments_lexer": "ipython3",
   "version": "3.7.9"
  },
  "orig_nbformat": 4,
  "vscode": {
   "interpreter": {
    "hash": "eb4cdb330c5ea7232880705c0e79ad22649a7c708042624124f8ff95c4dc218f"
   }
  }
 },
 "nbformat": 4,
 "nbformat_minor": 2
}
